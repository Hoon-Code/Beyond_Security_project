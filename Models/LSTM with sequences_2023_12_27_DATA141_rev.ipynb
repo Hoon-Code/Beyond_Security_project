{
 "cells": [
  {
   "cell_type": "code",
   "execution_count": 3,
   "id": "9438318b",
   "metadata": {},
   "outputs": [],
   "source": [
    "import cv2\n",
    "import os\n",
    "import numpy as np\n",
    "import pickle"
   ]
  },
  {
   "cell_type": "code",
   "execution_count": null,
   "id": "c80b86c9",
   "metadata": {},
   "outputs": [],
   "source": [
    "os.environ[\"CUDA_VISIBLE_DEVICES\"] = \"-1\"  # GPU 사용 비활성화\n",
    "\n",
    "import tensorflow as tf\n",
    "gpus = tf.config.experimental.list_physical_devices('GPU')\n",
    "if gpus:\n",
    "    try:\n",
    "        # 메모리 증가 허용\n",
    "        for gpu in gpus:\n",
    "            tf.config.experimental.set_memory_growth(gpu, True)\n",
    "    except RuntimeError as e:\n",
    "        print(e)"
   ]
  },
  {
   "cell_type": "code",
   "execution_count": 2,
   "id": "025324d7",
   "metadata": {},
   "outputs": [],
   "source": [
    "sequence_length = 30\n",
    "overlap = 15 \n",
    "video_top_folder = \"D:/dataset_5\"\n",
    "pickle_folder = \"D:\\pickle_data_6\""
   ]
  },
  {
   "cell_type": "code",
   "execution_count": 3,
   "id": "d53dae84",
   "metadata": {},
   "outputs": [],
   "source": [
    "\n",
    "\n",
    "def frame_generator(video_path):\n",
    "    cap = cv2.VideoCapture(video_path)\n",
    "    while cap.isOpened():\n",
    "        ret, frame = cap.read()\n",
    "        if not ret:\n",
    "            break\n",
    "        gray_frame = cv2.cvtColor(frame, cv2.COLOR_BGR2GRAY)\n",
    "        img_width = 128\n",
    "        img_height = 128\n",
    "        frame_resized = cv2.resize(gray_frame, (img_width, img_height))\n",
    "        frame_array = np.array(frame_resized) / 255.0\n",
    "        yield frame_array\n",
    "    cap.release()\n",
    "\n",
    "def process_video(video_path, sequence_length, overlap, pickle_folder):\n",
    "    frame_count = 0\n",
    "    sequences = []\n",
    "    frame_gen = frame_generator(video_path)\n",
    "\n",
    "    while True:\n",
    "        try:\n",
    "            frame_array = next(frame_gen)\n",
    "        except StopIteration:\n",
    "            break\n",
    "\n",
    "        if frame_count % (sequence_length - overlap) == 0:\n",
    "            sequences.append([])\n",
    "\n",
    "        sequences[-1].append(frame_array)\n",
    "        frame_count += 1\n",
    "\n",
    "    for seq_index in range(len(sequences)):\n",
    "        sequence = sequences[seq_index]\n",
    "        padding_needed = sequence_length - len(sequence)\n",
    "        if padding_needed > 0:\n",
    "            padding_frames = [np.zeros_like(frame_array) for _ in range(padding_needed)]\n",
    "            sequences[seq_index].extend(padding_frames)\n",
    "\n",
    "    label = os.path.splitext(os.path.basename(video_path))[0].split('_')[0]\n",
    "    pickle_filename = os.path.join(pickle_folder, f'{label}.pkl')\n",
    "\n",
    "    if os.path.exists(pickle_filename):\n",
    "        with open(pickle_filename, 'rb') as f:\n",
    "            existing_sequences = pickle.load(f)\n",
    "            sequences = existing_sequences + sequences\n",
    "\n",
    "    with open(pickle_filename, 'wb') as f:\n",
    "        pickle.dump(sequences, f)\n",
    "\n",
    "def process_folder(folder_path, sequence_length, overlap, pickle_folder):\n",
    "    for root, dirs, files in os.walk(folder_path):\n",
    "        for file in files:\n",
    "            video_path = os.path.join(root, file)\n",
    "            process_video(video_path, sequence_length, overlap, pickle_folder)\n"
   ]
  },
  {
   "cell_type": "code",
   "execution_count": 4,
   "id": "a09336ce",
   "metadata": {},
   "outputs": [],
   "source": [
    "process_folder(video_top_folder, sequence_length, overlap, pickle_folder)"
   ]
  },
  {
   "cell_type": "code",
   "execution_count": 5,
   "id": "b3966036",
   "metadata": {},
   "outputs": [
    {
     "name": "stdout",
     "output_type": "stream",
     "text": [
      "broken.pkl: 364 sequences, 10920 frames\n",
      "buying.pkl: 362 sequences, 10860 frames\n",
      "compare.pkl: 362 sequences, 10860 frames\n",
      "fight.pkl: 366 sequences, 10980 frames\n",
      "moving.pkl: 366 sequences, 10980 frames\n",
      "return.pkl: 363 sequences, 10890 frames\n",
      "select.pkl: 362 sequences, 10860 frames\n",
      "test.pkl: 361 sequences, 10830 frames\n",
      "theft.pkl: 367 sequences, 11010 frames\n"
     ]
    }
   ],
   "source": [
    "import os\n",
    "import pickle\n",
    "from collections import defaultdict\n",
    "\n",
    "data_directory = \"D:/pickle_data_5\"\n",
    "\n",
    "# 각 행동별 mp4 파일 수, 시퀀스 수, 프레임 수를 저장할 딕셔너리\n",
    "action_stats = defaultdict(lambda: {'sequences': 0, 'frame_count': 0})\n",
    "\n",
    "for filename in os.listdir(data_directory):\n",
    "    if filename.endswith(\".pkl\"):\n",
    "        action = filename.split('_')[0]  # 파일명에서 행동 추출\n",
    "\n",
    "        with open(os.path.join(data_directory, filename), 'rb') as f:\n",
    "            sequences = pickle.load(f)\n",
    "            action_stats[action]['sequences'] += len(sequences)\n",
    "            action_stats[action]['frame_count'] += sum(len(seq) for seq in sequences)\n",
    "            #action_stats[action]['mp4_count'] += 1\n",
    "\n",
    "# 결과 출력\n",
    "for action, info in action_stats.items():\n",
    "    print(f\"{action}: {info['sequences']} sequences, {info['frame_count']} frames\")"
   ]
  },
  {
   "cell_type": "code",
   "execution_count": 6,
   "id": "cadc27e2",
   "metadata": {},
   "outputs": [],
   "source": [
    "#import random\n",
    "\n",
    "# 데이터 구성을 위한 리스트 초기화\n",
    "X_sequences = []  # 시퀀스 데이터\n",
    "y_labels = []     # 시퀀스에 대한 레이블\n",
    "\n",
    "# 모든 피클 파일에 대해 반복\n",
    "for filename in os.listdir(data_directory):\n",
    "    if filename.endswith(\".pkl\"):\n",
    "        action = filename.split('.')[0]  # 파일명에서 '.pkl' 확장자 제거하여 행동 추출\n",
    "\n",
    "        with open(os.path.join(data_directory, filename), 'rb') as f:\n",
    "            sequences = pickle.load(f)\n",
    "            \n",
    "            # 각 시퀀스를 X_sequences에 추가하고 해당 행동을 y_labels에 추가\n",
    "            for sequence in sequences:\n",
    "                X_sequences.append(sequence)\n",
    "                y_labels.append(action)"
   ]
  },
  {
   "cell_type": "code",
   "execution_count": null,
   "id": "3fb1e931",
   "metadata": {},
   "outputs": [],
   "source": [
    "# LSTM"
   ]
  },
  {
   "cell_type": "code",
   "execution_count": 7,
   "id": "fbbcf54e",
   "metadata": {},
   "outputs": [],
   "source": [
    "X_sequences_array=np.array(X_sequences)"
   ]
  },
  {
   "cell_type": "code",
   "execution_count": 10,
   "id": "1ac28037",
   "metadata": {},
   "outputs": [],
   "source": [
    "# X_sequences_array를 3D 형태로 변환. 데이터 타입 변경\n",
    "X_sequences_reshaped = X_sequences_array.reshape(X_sequences_array.shape[0], X_sequences_array.shape[1], -1).astype('float32')"
   ]
  },
  {
   "cell_type": "code",
   "execution_count": 11,
   "id": "aa74cd06",
   "metadata": {},
   "outputs": [
    {
     "data": {
      "text/plain": [
       "(3273, 30, 16384)"
      ]
     },
     "execution_count": 11,
     "metadata": {},
     "output_type": "execute_result"
    }
   ],
   "source": [
    "X_sequences_reshaped.shape"
   ]
  },
  {
   "cell_type": "code",
   "execution_count": 12,
   "id": "b59f3ecc",
   "metadata": {},
   "outputs": [],
   "source": [
    "y_labels_array = np.array(y_labels)"
   ]
  },
  {
   "cell_type": "code",
   "execution_count": 13,
   "id": "9caa9915",
   "metadata": {},
   "outputs": [
    {
     "data": {
      "text/plain": [
       "(3273,)"
      ]
     },
     "execution_count": 13,
     "metadata": {},
     "output_type": "execute_result"
    }
   ],
   "source": [
    "y_labels_array.shape"
   ]
  },
  {
   "cell_type": "code",
   "execution_count": 14,
   "id": "fe97895b",
   "metadata": {},
   "outputs": [
    {
     "name": "stderr",
     "output_type": "stream",
     "text": [
      "C:\\Users\\user\\anaconda3\\Lib\\site-packages\\sklearn\\preprocessing\\_encoders.py:972: FutureWarning: `sparse` was renamed to `sparse_output` in version 1.2 and will be removed in 1.4. `sparse_output` is ignored unless you leave `sparse` to its default value.\n",
      "  warnings.warn(\n"
     ]
    }
   ],
   "source": [
    "from sklearn.preprocessing import LabelEncoder, OneHotEncoder\n",
    "\n",
    "# 레이블을 숫자로 변환\n",
    "label_encoder = LabelEncoder()\n",
    "y_labels_numerical = label_encoder.fit_transform(y_labels)\n",
    "\n",
    "# 숫자와 레이블 간의 매핑 저장\n",
    "label_mapping = {index: label for index, label in enumerate(label_encoder.classes_)}\n",
    "\n",
    "# 숫자를 원핫인코딩\n",
    "onehot_encoder = OneHotEncoder(sparse=False)\n",
    "y_labels_onehot = onehot_encoder.fit_transform(y_labels_numerical.reshape(-1, 1))"
   ]
  },
  {
   "cell_type": "code",
   "execution_count": 15,
   "id": "03d9a29a",
   "metadata": {},
   "outputs": [
    {
     "data": {
      "text/plain": [
       "{0: 'broken',\n",
       " 1: 'buying',\n",
       " 2: 'compare',\n",
       " 3: 'fight',\n",
       " 4: 'moving',\n",
       " 5: 'return',\n",
       " 6: 'select',\n",
       " 7: 'test',\n",
       " 8: 'theft'}"
      ]
     },
     "execution_count": 15,
     "metadata": {},
     "output_type": "execute_result"
    }
   ],
   "source": [
    "label_mapping"
   ]
  },
  {
   "cell_type": "code",
   "execution_count": 16,
   "id": "528c9260",
   "metadata": {},
   "outputs": [],
   "source": [
    "from sklearn.model_selection import train_test_split\n",
    "\n",
    "# 전체 데이터를 훈련용과 검증용으로 나누기\n",
    "X_train, X_val, y_train, y_val = train_test_split(X_sequences_reshaped, y_labels_onehot, test_size=0.2, random_state=42)"
   ]
  },
  {
   "cell_type": "code",
   "execution_count": 17,
   "id": "49be717e",
   "metadata": {},
   "outputs": [],
   "source": [
    "def validation_sequence_generator(X_sequences, y_labels, batch_size=32):\n",
    "    num_samples = X_sequences.shape[0]\n",
    "    indices = np.arange(num_samples)\n",
    "    np.random.shuffle(indices)\n",
    "    \n",
    "    while True:\n",
    "        for i in range(0, num_samples, batch_size):\n",
    "            batch_indices = indices[i:i+batch_size]\n",
    "            \n",
    "            batch_X = X_sequences[batch_indices]\n",
    "            batch_y = y_labels[batch_indices]\n",
    "            \n",
    "            yield batch_X, batch_y"
   ]
  },
  {
   "cell_type": "code",
   "execution_count": 18,
   "id": "b7c91f01",
   "metadata": {},
   "outputs": [],
   "source": [
    "# 제너레이터 생성\n",
    "new_batch_size = 32\n",
    "new_validation_sequence_generator = validation_sequence_generator(X_val, y_val, batch_size=new_batch_size)"
   ]
  },
  {
   "cell_type": "code",
   "execution_count": 19,
   "id": "3b3d5c58",
   "metadata": {},
   "outputs": [],
   "source": [
    "new_train_sequence_generator = validation_sequence_generator(X_train, y_train, batch_size=new_batch_size)"
   ]
  },
  {
   "cell_type": "code",
   "execution_count": 20,
   "id": "98d7fee8",
   "metadata": {},
   "outputs": [
    {
     "name": "stdout",
     "output_type": "stream",
     "text": [
      "Model: \"sequential\"\n",
      "_________________________________________________________________\n",
      " Layer (type)                Output Shape              Param #   \n",
      "=================================================================\n",
      " lstm (LSTM)                 (None, 30, 128)           8454656   \n",
      "                                                                 \n",
      " lstm_1 (LSTM)               (None, 30, 64)            49408     \n",
      "                                                                 \n",
      " lstm_2 (LSTM)               (None, 30, 64)            33024     \n",
      "                                                                 \n",
      " lstm_3 (LSTM)               (None, 30, 32)            12416     \n",
      "                                                                 \n",
      " lstm_4 (LSTM)               (None, 16)                3136      \n",
      "                                                                 \n",
      " flatten (Flatten)           (None, 16)                0         \n",
      "                                                                 \n",
      " dense (Dense)               (None, 9)                 153       \n",
      "                                                                 \n",
      "=================================================================\n",
      "Total params: 8552793 (32.63 MB)\n",
      "Trainable params: 8552793 (32.63 MB)\n",
      "Non-trainable params: 0 (0.00 Byte)\n",
      "_________________________________________________________________\n"
     ]
    }
   ],
   "source": [
    "# LSTM 모델 생성\n",
    "from tensorflow import keras\n",
    "from tensorflow.keras.models import Sequential\n",
    "from tensorflow.keras.layers import LSTM, Dense, Flatten\n",
    "from tensorflow.keras.callbacks import ModelCheckpoint, EarlyStopping, ReduceLROnPlateau\n",
    "from tensorflow.keras.optimizers import Adam\n",
    "\n",
    "num_classes = 9\n",
    "\n",
    "model = Sequential()\n",
    "model.add(LSTM(units=128, input_shape=(X_sequences_reshaped.shape[1], X_sequences_reshaped.shape[2]), return_sequences=True))\n",
    "model.add(LSTM(64, dropout=0.3, return_sequences=True))\n",
    "model.add(LSTM(64, dropout=0.3, return_sequences=True))\n",
    "model.add(LSTM(32, dropout=0.3, return_sequences=True))\n",
    "model.add(LSTM(16, dropout=0.3))\n",
    "model.add(Flatten())\n",
    "model.add(Dense(num_classes, activation='softmax'))\n",
    "\n",
    "# Early Stopping, Model Checkpoint, ReduceLROnPlateau\n",
    "early_stopping = EarlyStopping(monitor='val_loss', patience=8)\n",
    "model_checkpoint = ModelCheckpoint('LSTM_4.h5', save_best_only=True)\n",
    "reduce_lr = ReduceLROnPlateau(monitor='val_loss', factor=0.2, min_lr=0.00001)\n",
    "\n",
    "# 모델 컴파일\n",
    "model.compile(optimizer=Adam(learning_rate=0.0001), loss='categorical_crossentropy', metrics=['accuracy'])\n",
    "\n",
    "# 모델 요약 출력\n",
    "model.summary()"
   ]
  },
  {
   "cell_type": "code",
   "execution_count": 21,
   "id": "598e71bc",
   "metadata": {},
   "outputs": [
    {
     "name": "stdout",
     "output_type": "stream",
     "text": [
      "Epoch 1/30\n",
      "81/81 [==============================] - 60s 610ms/step - loss: 2.1476 - accuracy: 0.2083 - val_loss: 2.0335 - val_accuracy: 0.2531\n",
      "Epoch 2/30\n"
     ]
    },
    {
     "name": "stderr",
     "output_type": "stream",
     "text": [
      "C:\\Users\\user\\anaconda3\\Lib\\site-packages\\keras\\src\\engine\\training.py:3079: UserWarning: You are saving your model as an HDF5 file via `model.save()`. This file format is considered legacy. We recommend using instead the native Keras format, e.g. `model.save('my_model.keras')`.\n",
      "  saving_api.save_model(\n"
     ]
    },
    {
     "name": "stdout",
     "output_type": "stream",
     "text": [
      "81/81 [==============================] - 46s 570ms/step - loss: 1.8275 - accuracy: 0.4578 - val_loss: 1.5708 - val_accuracy: 0.5987\n",
      "Epoch 3/30\n",
      "81/81 [==============================] - 45s 556ms/step - loss: 1.4341 - accuracy: 0.6833 - val_loss: 1.2390 - val_accuracy: 0.7785\n",
      "Epoch 4/30\n",
      "81/81 [==============================] - 45s 554ms/step - loss: 1.1453 - accuracy: 0.7746 - val_loss: 1.1243 - val_accuracy: 0.7833\n",
      "Epoch 5/30\n",
      "81/81 [==============================] - 45s 559ms/step - loss: 0.9448 - accuracy: 0.7997 - val_loss: 0.7355 - val_accuracy: 0.8523\n",
      "Epoch 6/30\n",
      "81/81 [==============================] - 45s 552ms/step - loss: 0.7738 - accuracy: 0.8206 - val_loss: 0.7826 - val_accuracy: 0.7608\n",
      "Epoch 7/30\n",
      "81/81 [==============================] - 45s 555ms/step - loss: 0.6800 - accuracy: 0.8306 - val_loss: 0.5696 - val_accuracy: 0.8539\n",
      "Epoch 8/30\n",
      "81/81 [==============================] - 46s 564ms/step - loss: 0.6166 - accuracy: 0.8341 - val_loss: 0.5090 - val_accuracy: 0.8828\n",
      "Epoch 9/30\n",
      "81/81 [==============================] - 45s 556ms/step - loss: 0.4887 - accuracy: 0.8662 - val_loss: 0.4395 - val_accuracy: 0.8700\n",
      "Epoch 10/30\n",
      "81/81 [==============================] - 45s 550ms/step - loss: 0.4827 - accuracy: 0.8650 - val_loss: 0.4275 - val_accuracy: 0.8604\n",
      "Epoch 11/30\n",
      "81/81 [==============================] - 45s 552ms/step - loss: 0.4108 - accuracy: 0.8937 - val_loss: 0.3801 - val_accuracy: 0.8732\n",
      "Epoch 12/30\n",
      "81/81 [==============================] - 45s 552ms/step - loss: 0.3643 - accuracy: 0.9010 - val_loss: 0.4264 - val_accuracy: 0.8780\n",
      "Epoch 13/30\n",
      "81/81 [==============================] - 45s 553ms/step - loss: 0.5403 - accuracy: 0.8264 - val_loss: 0.6802 - val_accuracy: 0.7624\n",
      "Epoch 14/30\n",
      "81/81 [==============================] - 45s 553ms/step - loss: 0.3713 - accuracy: 0.8863 - val_loss: 0.3285 - val_accuracy: 0.9149\n",
      "Epoch 15/30\n",
      "81/81 [==============================] - 45s 556ms/step - loss: 0.3460 - accuracy: 0.8944 - val_loss: 0.3633 - val_accuracy: 0.8716\n",
      "Epoch 16/30\n",
      "81/81 [==============================] - 46s 564ms/step - loss: 0.3068 - accuracy: 0.9180 - val_loss: 0.6612 - val_accuracy: 0.8090\n",
      "Epoch 17/30\n",
      "81/81 [==============================] - 45s 556ms/step - loss: 0.3703 - accuracy: 0.8824 - val_loss: 0.4039 - val_accuracy: 0.8234\n",
      "Epoch 18/30\n",
      "81/81 [==============================] - 45s 554ms/step - loss: 0.3361 - accuracy: 0.9018 - val_loss: 0.2591 - val_accuracy: 0.9358\n",
      "Epoch 19/30\n",
      "81/81 [==============================] - 45s 554ms/step - loss: 0.2790 - accuracy: 0.9184 - val_loss: 0.2898 - val_accuracy: 0.8957\n",
      "Epoch 20/30\n",
      "81/81 [==============================] - 45s 557ms/step - loss: 0.2459 - accuracy: 0.9312 - val_loss: 0.2651 - val_accuracy: 0.9165\n",
      "Epoch 21/30\n",
      "81/81 [==============================] - 45s 555ms/step - loss: 0.2339 - accuracy: 0.9366 - val_loss: 0.2197 - val_accuracy: 0.9470\n",
      "Epoch 22/30\n",
      "81/81 [==============================] - 45s 559ms/step - loss: 0.2110 - accuracy: 0.9416 - val_loss: 0.3083 - val_accuracy: 0.9094\n",
      "Epoch 23/30\n",
      "81/81 [==============================] - 45s 554ms/step - loss: 0.2468 - accuracy: 0.9316 - val_loss: 0.2013 - val_accuracy: 0.9518\n",
      "Epoch 24/30\n",
      "81/81 [==============================] - 44s 550ms/step - loss: 0.2107 - accuracy: 0.9416 - val_loss: 0.2426 - val_accuracy: 0.9085\n",
      "Epoch 25/30\n",
      "81/81 [==============================] - 45s 556ms/step - loss: 0.2029 - accuracy: 0.9493 - val_loss: 0.2366 - val_accuracy: 0.9262\n",
      "Epoch 26/30\n",
      "81/81 [==============================] - 45s 556ms/step - loss: 0.2313 - accuracy: 0.9265 - val_loss: 0.3405 - val_accuracy: 0.9133\n",
      "Epoch 27/30\n",
      "81/81 [==============================] - 45s 557ms/step - loss: 0.2057 - accuracy: 0.9443 - val_loss: 0.1799 - val_accuracy: 0.9823\n",
      "Epoch 28/30\n",
      "81/81 [==============================] - 45s 558ms/step - loss: 0.1634 - accuracy: 0.9594 - val_loss: 0.1806 - val_accuracy: 0.9535\n",
      "Epoch 29/30\n",
      "81/81 [==============================] - 46s 568ms/step - loss: 0.1602 - accuracy: 0.9582 - val_loss: 0.2182 - val_accuracy: 0.9021\n",
      "Epoch 30/30\n",
      "81/81 [==============================] - 45s 559ms/step - loss: 0.1846 - accuracy: 0.9420 - val_loss: 0.2130 - val_accuracy: 0.9631\n"
     ]
    }
   ],
   "source": [
    "history = model.fit(\n",
    "    new_train_sequence_generator,  \n",
    "    steps_per_epoch=len(X_train) // new_batch_size,  # 한 에폭당 단계 수\n",
    "    epochs=30,\n",
    "    callbacks=[early_stopping, model_checkpoint],\n",
    "    validation_data=new_validation_sequence_generator,  # 검증 데이터셋 제너레이터\n",
    "    validation_steps=len(X_val) // new_batch_size  # 검증 단계 수\n",
    ")"
   ]
  },
  {
   "cell_type": "code",
   "execution_count": 22,
   "id": "fb046502",
   "metadata": {},
   "outputs": [
    {
     "name": "stdout",
     "output_type": "stream",
     "text": [
      "21/21 [==============================] - 3s 161ms/step - loss: 0.2109 - accuracy: 0.9649\n",
      "Test accuracy: 0.9648854732513428\n"
     ]
    }
   ],
   "source": [
    "# 모델 평가\n",
    "loss, accuracy = model.evaluate(X_val, y_val)\n",
    "print(f'Test accuracy: {accuracy}')"
   ]
  },
  {
   "cell_type": "code",
   "execution_count": 23,
   "id": "2f562d00",
   "metadata": {},
   "outputs": [
    {
     "data": {
      "image/png": "[encoded data removed]",
      "text/plain": [
       "<Figure size 1000x500 with 1 Axes>"
      ]
     },
     "metadata": {},
     "output_type": "display_data"
    }
   ],
   "source": [
    "import matplotlib.pyplot as plt\n",
    "\n",
    "# 훈련 및 검증 데이터의 정확도 값 저장\n",
    "train_accuracy = history.history['accuracy']\n",
    "val_accuracy = history.history['val_accuracy']\n",
    "\n",
    "# 훈련 및 검증 데이터의 손실 값 저장\n",
    "train_loss = history.history['loss']\n",
    "val_loss = history.history['val_loss']\n",
    "\n",
    "# 정확도 그래프 그리기\n",
    "plt.figure(figsize=(10, 5))\n",
    "plt.plot(train_accuracy, label='Training Accuracy', color='blue')\n",
    "plt.plot(val_accuracy, label='Validation Accuracy', color='red')\n",
    "plt.title('Training and Validation Accuracy')\n",
    "plt.xlabel('Epoch')\n",
    "plt.ylabel('Accuracy')\n",
    "plt.legend()\n",
    "plt.show()"
   ]
  },
  {
   "cell_type": "code",
   "execution_count": 24,
   "id": "a2730cb0",
   "metadata": {},
   "outputs": [
    {
     "data": {
      "image/png": "[encoded data removed]",
      "text/plain": [
       "<Figure size 1000x500 with 1 Axes>"
      ]
     },
     "metadata": {},
     "output_type": "display_data"
    }
   ],
   "source": [
    "# 손실 그래프 그리기\n",
    "plt.figure(figsize=(10, 5))\n",
    "plt.plot(train_loss, label='Training Loss', color='blue')\n",
    "plt.plot(val_loss, label='Validation Loss', color='red')\n",
    "plt.title('Training and Validation Loss')\n",
    "plt.xlabel('Epoch')\n",
    "plt.ylabel('Loss')\n",
    "plt.legend()\n",
    "plt.show()"
   ]
  },
  {
   "cell_type": "code",
   "execution_count": null,
   "id": "6ca71070",
   "metadata": {},
   "outputs": [],
   "source": [
    "# 정상, 비정상으로 분류\n",
    "# 분류 결과가 시퀀스 별로 다 나온다"
   ]
  },
  {
   "cell_type": "code",
   "execution_count": 29,
   "id": "1053efaa",
   "metadata": {},
   "outputs": [],
   "source": [
    "import cv2\n",
    "import numpy as np\n",
    "from tensorflow.keras.models import load_model\n",
    "\n",
    "# 테스트 영상 파일 경로\n",
    "test_video_path = \"C:/Users/user/Downloads/IMG_9468.mp4\"\n",
    "\n",
    "# 모델 불러오기\n",
    "model_path = \"C:/Users/user/Desktop/Final project/LSTM_4.h5\"\n",
    "model = load_model(model_path)\n",
    "\n",
    "# 라벨 이름 매핑\n",
    "class_names = {0: 'abnormal', 1: 'normal', 2: 'normal', 3: 'abnormal', 4: 'normal', 5: 'normal', 6: 'normal', 7: 'normal', 8: 'abnormal'}\n",
    "\n",
    "# VideoCapture를 사용하여 테스트 영상 열기\n",
    "cap = cv2.VideoCapture(test_video_path)\n",
    "\n",
    "# VideoCapture를 사용하여 테스트 영상의 속성 가져오기\n",
    "frame_width = int(cap.get(cv2.CAP_PROP_FRAME_WIDTH))\n",
    "frame_height = int(cap.get(cv2.CAP_PROP_FRAME_HEIGHT))\n",
    "fps = int(cap.get(cv2.CAP_PROP_FPS))\n",
    "\n",
    "# VideoWriter 객체 생성\n",
    "output_path = 'test_2.mp4'  # 결과를 저장할 파일 경로\n",
    "fourcc = cv2.VideoWriter_fourcc(*'mp4v')\n",
    "out = cv2.VideoWriter(output_path, fourcc, fps, (frame_width, frame_height))\n"
   ]
  },
  {
   "cell_type": "code",
   "execution_count": 30,
   "id": "3e830962",
   "metadata": {},
   "outputs": [
    {
     "name": "stdout",
     "output_type": "stream",
     "text": [
      "1/1 [==============================] - 2s 2s/step\n",
      "1/1 [==============================] - 0s 47ms/step\n",
      "1/1 [==============================] - 0s 47ms/step\n",
      "1/1 [==============================] - 0s 62ms/step\n",
      "1/1 [==============================] - 0s 62ms/step\n",
      "1/1 [==============================] - 0s 47ms/step\n",
      "1/1 [==============================] - 0s 62ms/step\n",
      "1/1 [==============================] - 0s 62ms/step\n",
      "1/1 [==============================] - 0s 62ms/step\n",
      "1/1 [==============================] - 0s 47ms/step\n",
      "1/1 [==============================] - 0s 47ms/step\n",
      "1/1 [==============================] - 0s 47ms/step\n",
      "1/1 [==============================] - 0s 47ms/step\n",
      "1/1 [==============================] - 0s 47ms/step\n",
      "1/1 [==============================] - 0s 62ms/step\n",
      "1/1 [==============================] - 0s 62ms/step\n",
      "1/1 [==============================] - 0s 47ms/step\n",
      "1/1 [==============================] - 0s 62ms/step\n",
      "1/1 [==============================] - 0s 47ms/step\n",
      "1/1 [==============================] - 0s 47ms/step\n",
      "1/1 [==============================] - 0s 62ms/step\n",
      "1/1 [==============================] - 0s 47ms/step\n",
      "1/1 [==============================] - 0s 71ms/step\n",
      "1/1 [==============================] - 0s 61ms/step\n",
      "1/1 [==============================] - 0s 60ms/step\n",
      "1/1 [==============================] - 0s 59ms/step\n",
      "1/1 [==============================] - 0s 57ms/step\n",
      "1/1 [==============================] - 0s 57ms/step\n",
      "1/1 [==============================] - 0s 60ms/step\n",
      "1/1 [==============================] - 0s 53ms/step\n",
      "1/1 [==============================] - 0s 62ms/step\n",
      "1/1 [==============================] - 0s 47ms/step\n",
      "1/1 [==============================] - 0s 47ms/step\n",
      "1/1 [==============================] - 0s 62ms/step\n",
      "1/1 [==============================] - 0s 47ms/step\n",
      "1/1 [==============================] - 0s 47ms/step\n",
      "1/1 [==============================] - 0s 62ms/step\n",
      "1/1 [==============================] - 0s 62ms/step\n",
      "1/1 [==============================] - 0s 62ms/step\n",
      "1/1 [==============================] - 0s 47ms/step\n",
      "1/1 [==============================] - 0s 62ms/step\n",
      "1/1 [==============================] - 0s 62ms/step\n",
      "1/1 [==============================] - 0s 62ms/step\n",
      "1/1 [==============================] - 0s 62ms/step\n",
      "1/1 [==============================] - 0s 47ms/step\n",
      "1/1 [==============================] - 0s 47ms/step\n",
      "1/1 [==============================] - 0s 47ms/step\n",
      "1/1 [==============================] - 0s 62ms/step\n",
      "1/1 [==============================] - 0s 62ms/step\n",
      "1/1 [==============================] - 0s 62ms/step\n",
      "1/1 [==============================] - 0s 47ms/step\n",
      "1/1 [==============================] - 0s 62ms/step\n",
      "1/1 [==============================] - 0s 47ms/step\n",
      "1/1 [==============================] - 0s 67ms/step\n",
      "1/1 [==============================] - 0s 62ms/step\n",
      "1/1 [==============================] - 0s 62ms/step\n",
      "1/1 [==============================] - 0s 47ms/step\n",
      "1/1 [==============================] - 0s 62ms/step\n",
      "1/1 [==============================] - 0s 47ms/step\n",
      "1/1 [==============================] - 0s 47ms/step\n",
      "1/1 [==============================] - 0s 47ms/step\n",
      "1/1 [==============================] - 0s 47ms/step\n",
      "1/1 [==============================] - 0s 62ms/step\n",
      "1/1 [==============================] - 0s 62ms/step\n",
      "1/1 [==============================] - 0s 62ms/step\n",
      "1/1 [==============================] - 0s 62ms/step\n",
      "1/1 [==============================] - 0s 62ms/step\n",
      "1/1 [==============================] - 0s 62ms/step\n",
      "1/1 [==============================] - 0s 47ms/step\n",
      "1/1 [==============================] - 0s 62ms/step\n",
      "1/1 [==============================] - 0s 62ms/step\n",
      "1/1 [==============================] - 0s 47ms/step\n",
      "1/1 [==============================] - 0s 62ms/step\n",
      "1/1 [==============================] - 0s 47ms/step\n",
      "1/1 [==============================] - 0s 62ms/step\n",
      "1/1 [==============================] - 0s 47ms/step\n",
      "1/1 [==============================] - 0s 62ms/step\n",
      "1/1 [==============================] - 0s 62ms/step\n",
      "1/1 [==============================] - 0s 62ms/step\n",
      "1/1 [==============================] - 0s 47ms/step\n",
      "1/1 [==============================] - 0s 62ms/step\n",
      "1/1 [==============================] - 0s 62ms/step\n",
      "1/1 [==============================] - 0s 47ms/step\n",
      "1/1 [==============================] - 0s 47ms/step\n",
      "1/1 [==============================] - 0s 62ms/step\n",
      "1/1 [==============================] - 0s 62ms/step\n",
      "1/1 [==============================] - 0s 53ms/step\n",
      "1/1 [==============================] - 0s 62ms/step\n",
      "1/1 [==============================] - 0s 62ms/step\n",
      "1/1 [==============================] - 0s 62ms/step\n",
      "1/1 [==============================] - 0s 62ms/step\n",
      "1/1 [==============================] - 0s 62ms/step\n",
      "1/1 [==============================] - 0s 62ms/step\n",
      "1/1 [==============================] - 0s 47ms/step\n",
      "1/1 [==============================] - 0s 47ms/step\n",
      "1/1 [==============================] - 0s 62ms/step\n",
      "1/1 [==============================] - 0s 47ms/step\n",
      "1/1 [==============================] - 0s 62ms/step\n",
      "1/1 [==============================] - 0s 47ms/step\n",
      "1/1 [==============================] - 0s 62ms/step\n",
      "1/1 [==============================] - 0s 47ms/step\n",
      "1/1 [==============================] - 0s 47ms/step\n",
      "1/1 [==============================] - 0s 62ms/step\n",
      "1/1 [==============================] - 0s 62ms/step\n",
      "1/1 [==============================] - 0s 62ms/step\n",
      "1/1 [==============================] - 0s 62ms/step\n",
      "1/1 [==============================] - 0s 62ms/step\n",
      "1/1 [==============================] - 0s 62ms/step\n",
      "1/1 [==============================] - 0s 47ms/step\n",
      "1/1 [==============================] - 0s 47ms/step\n",
      "1/1 [==============================] - 0s 62ms/step\n",
      "1/1 [==============================] - 0s 62ms/step\n",
      "1/1 [==============================] - 0s 47ms/step\n",
      "1/1 [==============================] - 0s 47ms/step\n",
      "1/1 [==============================] - 0s 62ms/step\n"
     ]
    }
   ],
   "source": [
    "\n",
    "frame_buffer = []  # 프레임을 저장할 버퍼\n",
    "predictions_buffer = []  # 결과를 저장할 버퍼\n",
    "\n",
    "while True:\n",
    "    ret, frame = cap.read()\n",
    "    if not ret:\n",
    "        break\n",
    "\n",
    "    resized_frame = cv2.resize(frame, (128, 128))\n",
    "    gray_frame = cv2.cvtColor(resized_frame, cv2.COLOR_BGR2GRAY)\n",
    "    normalized_frame = gray_frame / 255.0\n",
    "    frame_buffer.append(normalized_frame.flatten())  # 특징 추출 후 버퍼에 저장\n",
    "\n",
    "    if len(frame_buffer) == 30:  # 30프레임씩 모아서 처리\n",
    "        input_data = np.array(frame_buffer)  # 30프레임을 NumPy 배열로 변환\n",
    "        input_data = input_data.reshape(1, 30, -1)  # 모델에 입력하기 위해 형태 변환\n",
    "        predictions = model.predict(input_data)  # 모델로 예측 수행\n",
    "\n",
    "        # abnormal과 normal로 결과 재매핑\n",
    "        predicted_classes = [class_names[np.argmax(prediction)] for prediction in predictions]\n",
    "        mapped_predictions = []\n",
    "        for predicted_class in predicted_classes:\n",
    "            if predicted_class in ['abnormal', 'normal']:\n",
    "                mapped_predictions.append(predicted_class)\n",
    "            else:\n",
    "                mapped_predictions.append('normal')  # 나머지 클래스는 normal로 매핑\n",
    "        \n",
    "        predictions_buffer.extend(mapped_predictions)  # 결과 저장\n",
    "        frame_buffer = []  # 버퍼 비우기\n",
    "\n",
    "    # 텍스트 추가\n",
    "    if predictions_buffer:\n",
    "        text = f\"Action: {', '.join(predictions_buffer)}\"\n",
    "        cv2.putText(frame, text, (50, 50), cv2.FONT_HERSHEY_SIMPLEX, 0.5, (0, 255, 0), 1)\n",
    "\n",
    "    # 오버레이된 프레임을 저장\n",
    "    out.write(frame)\n",
    "\n",
    "# 작업 완료 후 해제\n",
    "cap.release()\n",
    "out.release()\n",
    "cv2.destroyAllWindows()\n"
   ]
  },
  {
   "cell_type": "code",
   "execution_count": null,
   "id": "e9b80896",
   "metadata": {},
   "outputs": [],
   "source": []
  }
 ],
 "metadata": {
  "kernelspec": {
   "display_name": "Python 3 (ipykernel)",
   "language": "python",
   "name": "python3"
  },
  "language_info": {
   "codemirror_mode": {
    "name": "ipython",
    "version": 3
   },
   "file_extension": ".py",
   "mimetype": "text/x-python",
   "name": "python",
   "nbconvert_exporter": "python",
   "pygments_lexer": "ipython3",
   "version": "3.11.4"
  }
 },
 "nbformat": 4,
 "nbformat_minor": 5
}
